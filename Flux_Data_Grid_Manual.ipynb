{
 "cells": [
  {
   "cell_type": "code",
   "execution_count": 1,
   "metadata": {},
   "outputs": [],
   "source": [
    "import sys\n",
    "import os\n",
    "sys.path.insert(0, '/Users/christopherlee/Desktop/SIP_2021/kaepora/src')\n",
    "os.chdir('/Users/christopherlee/Desktop/SIP_2021/kaepora/src')"
   ]
  },
  {
   "cell_type": "code",
   "execution_count": 2,
   "metadata": {},
   "outputs": [],
   "source": [
    "%load_ext autoreload\n",
    "%autoreload 2"
   ]
  },
  {
   "cell_type": "code",
   "execution_count": 3,
   "metadata": {},
   "outputs": [],
   "source": [
    "import kaepora as kpora\n",
    "import numpy as np\n",
    "import matplotlib.pyplot as plt"
   ]
  },
  {
   "cell_type": "code",
   "execution_count": 4,
   "metadata": {},
   "outputs": [],
   "source": [
    "#spectra_querry = [\"SELECT * from Spectra inner join Events ON Spectra.SN = Events.SN\"]\n",
    "spectra_querry = [\"SELECT * from Spectra inner join Events ON Spectra.SN = Events.SN where phase >= -1 and phase <= 1 and ((dm15_source < 1.8) or (dm15_from_fits < 1.8))\"]"
   ]
  },
  {
   "cell_type": "code",
   "execution_count": 5,
   "metadata": {},
   "outputs": [
    {
     "name": "stdout",
     "output_type": "stream",
     "text": [
      "Collecting data from /Users/christopherlee/Desktop/SIP_2021/kaepora/data/kaepora_v1.2.db ...\n",
      "170 Total Spectra found\n",
      "170 spectra of SNe that have host reddening corrections\n",
      "Arrays cleaned\n"
     ]
    }
   ],
   "source": [
    "spec_array = kpora.grab(spectra_querry[0], db_file = '/Users/christopherlee/Desktop/SIP_2021/kaepora/data/kaepora_v1.2.db')"
   ]
  },
  {
   "cell_type": "code",
   "execution_count": 6,
   "metadata": {},
   "outputs": [],
   "source": [
    "def fluxGrid(spec_array):\n",
    "    \n",
    "    MINSTART = spec_array[0].x1\n",
    "    MINEND = spec_array[0].x2\n",
    "\n",
    "    for spec in spec_array:\n",
    "        if spec.x1 < MINSTART:\n",
    "            MINSTART = spec.x1\n",
    "        if spec.x2 > MINEND:\n",
    "            MINEND = spec.x2\n",
    "    \n",
    "    all_data = 0.0\n",
    "\n",
    "    for spec in spec_array:\n",
    "        all_data += len(spec.flux[~np.isnan(spec.flux)])\n",
    "    \n",
    "    length = len(spec_array[0].flux[~np.isnan(spec_array[0].flux)])\n",
    "\n",
    "    for spec in spec_array:\n",
    "        if length > len(spec.flux[~np.isnan(spec.flux)]):\n",
    "            length = len(spec.flux[~np.isnan(spec.flux)])\n",
    "    \n",
    "    total_data = all_data\n",
    "    data_percent = 0.0\n",
    "\n",
    "    start = MINSTART\n",
    "\n",
    "    bestStart = None\n",
    "    bestLength = None\n",
    "\n",
    "    while (start + length - 1 <= MINEND):\n",
    "        total_data = all_data\n",
    "\n",
    "        while (start + length - 1 <= MINEND):\n",
    "            num_cols = len(spec_array)\n",
    "            \n",
    "            for spec in spec_array:\n",
    "                array_start = spec.flux[:start]\n",
    "                array_end = spec.flux[(start + length - 1):]\n",
    "                new_array = spec.flux[start:(start + length)]\n",
    "\n",
    "                total_data -= len(array_start[~np.isnan(array_start)])\n",
    "                total_data -= len(array_end[~np.isnan(array_end)])\n",
    "\n",
    "                if any(np.isnan(new_array)):\n",
    "                    total_data -= len(new_array[~np.isnan(new_array)])\n",
    "                    num_cols -= 1\n",
    "\n",
    "            new_data = total_data/all_data\n",
    "\n",
    "            if new_data > data_percent:\n",
    "                data_percent = new_data\n",
    "                bestStart = start\n",
    "                bestLength = length\n",
    "                best_num_cols = num_cols\n",
    "\n",
    "            total_data = all_data\n",
    "            start += 100\n",
    "\n",
    "        start = MINSTART \n",
    "        length += 100\n",
    "    \n",
    "    MIN = bestStart\n",
    "    MAX = bestStart + bestLength - 1\n",
    "\n",
    "    num_rows = bestLength\n",
    "    num_cols = best_num_cols\n",
    "    \n",
    "    grid = []\n",
    "    k = 0\n",
    "    \n",
    "    while len(grid) < num_cols:\n",
    "        if all(~np.isnan(spec_array[k].flux)[MIN:(MAX + 1)]):\n",
    "            grid.append(spec_array[k].flux[MIN:(MAX + 1)])\n",
    "        k += 1\n",
    "    \n",
    "    np.savetxt('../Flux_Grid', grid)\n",
    "    \n",
    "    print (MIN, MAX)\n",
    "    plt.figure(figsize=[10,10])\n",
    "    plt.imshow(grid)\n",
    "\n",
    "    return (MIN, MAX)"
   ]
  },
  {
   "cell_type": "code",
   "execution_count": 22,
   "metadata": {},
   "outputs": [],
   "source": [
    "def fluxGridManual(spec_array, wave1, wave2):\n",
    "    \n",
    "    MIN = np.where(spec_array[0].wavelength==wave1)[0][0]\n",
    "    MAX = np.where(spec_array[0].wavelength==wave2)[0][0]\n",
    "    \n",
    "    print (MIN, MAX)\n",
    "    \n",
    "    grid = []\n",
    "    k = 0\n",
    "    \n",
    "    while k < len(spec_array):\n",
    "        if all(~np.isnan(spec_array[k].flux)[MIN:(MAX + 1)]):\n",
    "            grid.append(spec_array[k].flux[MIN:(MAX + 1)])\n",
    "        k += 1\n",
    "    \n",
    "    np.savetxt('../Flux_Grid_Manual.txt', grid)\n",
    "    \n",
    "    MIN = spec_array[0].wavelength[MIN]\n",
    "    MAX = spec_array[0].wavelength[MAX]\n",
    "    \n",
    "    print (MIN, MAX)\n",
    "    return (MIN, MAX)"
   ]
  },
  {
   "cell_type": "code",
   "execution_count": 30,
   "metadata": {},
   "outputs": [
    {
     "name": "stdout",
     "output_type": "stream",
     "text": [
      "(1250, 3500)\n",
      "(3500.0, 8000.0)\n"
     ]
    }
   ],
   "source": [
    "MIN, MAX = fluxGridManual(spec_array, 3500.0, 8000.0)"
   ]
  },
  {
   "cell_type": "code",
   "execution_count": 31,
   "metadata": {},
   "outputs": [
    {
     "data": {
      "text/plain": [
       "<matplotlib.image.AxesImage at 0x1c249db890>"
      ]
     },
     "execution_count": 31,
     "metadata": {},
     "output_type": "execute_result"
    },
    {
     "data": {
      "image/png": "[encoded data removed]",
      "text/plain": [
       "<Figure size 720x720 with 1 Axes>"
      ]
     },
     "metadata": {
      "needs_background": "light"
     },
     "output_type": "display_data"
    }
   ],
   "source": [
    "data = np.loadtxt('../Flux_Grid_Manual.txt')\n",
    "\n",
    "plt.figure(figsize=[10,10])\n",
    "plt.imshow(data)"
   ]
  },
  {
   "cell_type": "code",
   "execution_count": null,
   "metadata": {},
   "outputs": [],
   "source": []
  }
 ],
 "metadata": {
  "kernelspec": {
   "display_name": "Python 2",
   "language": "python",
   "name": "python2"
  },
  "language_info": {
   "codemirror_mode": {
    "name": "ipython",
    "version": 2
   },
   "file_extension": ".py",
   "mimetype": "text/x-python",
   "name": "python",
   "nbconvert_exporter": "python",
   "pygments_lexer": "ipython2",
   "version": "2.7.16"
  }
 },
 "nbformat": 4,
 "nbformat_minor": 2
}
