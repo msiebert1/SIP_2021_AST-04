{
 "cells": [
  {
   "cell_type": "code",
   "execution_count": null,
   "metadata": {},
   "outputs": [],
   "source": [
    "import sys\n",
    "import os\n",
    "sys.path.insert(0, '/Users/lerinalaluf/Desktop/SIP_2021/kaepora/src')\n",
    "os.chdir('/Users/lerinalaluf/Desktop/SIP_2021/kaepora/src')"
   ]
  },
  {
   "cell_type": "code",
   "execution_count": null,
   "metadata": {},
   "outputs": [],
   "source": [
    "%load_ext autoreload\n",
    "%autoreload 2"
   ]
  },
  {
   "cell_type": "code",
   "execution_count": null,
   "metadata": {},
   "outputs": [],
   "source": [
    "import kaepora as kpora\n",
    "import numpy as np"
   ]
  },
  {
   "cell_type": "code",
   "execution_count": null,
   "metadata": {},
   "outputs": [],
   "source": [
    "spectra_querry = [\"SELECT * from Spectra inner join Events ON Spectra.SN = Events.SN\"]"
   ]
  },
  {
   "cell_type": "code",
   "execution_count": null,
   "metadata": {},
   "outputs": [],
   "source": [
    "spec_array = kpora.grab(spectra_querry[0], verbose=True, db_file = '../data/kaepora_v1_DEV.db')"
   ]
  },
  {
   "cell_type": "code",
   "execution_count": null,
   "metadata": {},
   "outputs": [],
   "source": [
    "MIN=1566\n",
    "MAX=2605\n",
    "\n",
    "num_cols = len(spec_array)\n",
    "num_rows = MAX-MIN\n",
    "\n",
    "grid = [[None]*(num_rows) for z in range(num_cols)]\n",
    "\n",
    "for x in range(num_cols):\n",
    "    z=0\n",
    "    for y in range(MIN, MAX):\n",
    "        grid[x][z] = spec_array[x].flux[y]\n",
    "        z+=1\n",
    "\n",
    "np.savetxt('Flux Data.txt', grid)    "
   ]
  },
  {
   "cell_type": "code",
   "execution_count": null,
   "metadata": {},
   "outputs": [],
   "source": []
  }
 ],
 "metadata": {
  "kernelspec": {
   "display_name": "Python 2",
   "language": "python",
   "name": "python2"
  },
  "language_info": {
   "codemirror_mode": {
    "name": "ipython",
    "version": 2
   },
   "file_extension": ".py",
   "mimetype": "text/x-python",
   "name": "python",
   "nbconvert_exporter": "python",
   "pygments_lexer": "ipython2",
   "version": "2.7.16"
  }
 },
 "nbformat": 4,
 "nbformat_minor": 2
}
